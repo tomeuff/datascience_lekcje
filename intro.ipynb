{
  "nbformat": 4,
  "nbformat_minor": 0,
  "metadata": {
    "colab": {
      "provenance": [],
      "authorship_tag": "ABX9TyNm+wwiWTPC9DYJ25h82xJL",
      "include_colab_link": true
    },
    "kernelspec": {
      "name": "python3",
      "display_name": "Python 3"
    },
    "language_info": {
      "name": "python"
    }
  },
  "cells": [
    {
      "cell_type": "markdown",
      "metadata": {
        "id": "view-in-github",
        "colab_type": "text"
      },
      "source": [
        "<a href=\"https://colab.research.google.com/github/tomeuff/datascience_lekcje/blob/main/intro.ipynb\" target=\"_parent\"><img src=\"https://colab.research.google.com/assets/colab-badge.svg\" alt=\"Open In Colab\"/></a>"
      ]
    },
    {
      "cell_type": "code",
      "execution_count": null,
      "metadata": {
        "id": "6dlOHSlVx0ef"
      },
      "outputs": [],
      "source": [
        "print('xd')"
      ]
    },
    {
      "cell_type": "markdown",
      "source": [
        "# Operacje na listach"
      ],
      "metadata": {
        "id": "t6E7V6QxzNbx"
      }
    },
    {
      "cell_type": "code",
      "source": [
        "lista = [3, 4, -1, 2]\n",
        "lista.sort()\n",
        "lista"
      ],
      "metadata": {
        "colab": {
          "base_uri": "https://localhost:8080/"
        },
        "id": "DY7J1Jg1zTNH",
        "outputId": "158b3e39-7550-4a95-ee7b-e2239291328c"
      },
      "execution_count": null,
      "outputs": [
        {
          "output_type": "execute_result",
          "data": {
            "text/plain": [
              "[-1, 2, 3, 4]"
            ]
          },
          "metadata": {},
          "execution_count": 3
        }
      ]
    },
    {
      "cell_type": "code",
      "source": [
        "dane = [5, 6, 7, 8, 9,]\n",
        "print(dane[::2])"
      ],
      "metadata": {
        "id": "XcvAq3SC4vxR",
        "outputId": "24c30fec-5e87-4f4e-df52-2f6a9eef42fc",
        "colab": {
          "base_uri": "https://localhost:8080/"
        }
      },
      "execution_count": null,
      "outputs": [
        {
          "output_type": "stream",
          "name": "stdout",
          "text": [
            "[5, 7, 9]\n"
          ]
        }
      ]
    },
    {
      "cell_type": "code",
      "source": [
        "plik = \"XD\"\n",
        "print(plik)"
      ],
      "metadata": {
        "id": "SjKk5vxt41Wj",
        "outputId": "00f7277a-1db3-410c-b606-ddfb14450ef0",
        "colab": {
          "base_uri": "https://localhost:8080/"
        }
      },
      "execution_count": 1,
      "outputs": [
        {
          "output_type": "stream",
          "name": "stdout",
          "text": [
            "XD\n"
          ]
        }
      ]
    },
    {
      "cell_type": "code",
      "source": [],
      "metadata": {
        "id": "zDhlj-4Z5da9"
      },
      "execution_count": null,
      "outputs": []
    }
  ]
}